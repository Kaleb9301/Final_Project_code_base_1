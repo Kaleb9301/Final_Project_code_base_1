{
 "cells": [
  {
   "cell_type": "code",
   "execution_count": 10,
   "id": "79f1b8d1-26e9-4efb-a66e-b8356c3d5c2d",
   "metadata": {},
   "outputs": [
    {
     "name": "stderr",
     "output_type": "stream",
     "text": [
      "C:\\Users\\Desperado\\AppData\\Local\\Programs\\Python\\Python311\\Lib\\site-packages\\sklearn\\base.py:465: UserWarning: X does not have valid feature names, but MinMaxScaler was fitted with feature names\n",
      "  warnings.warn(\n"
     ]
    },
    {
     "name": "stdout",
     "output_type": "stream",
     "text": [
      "1/1 [==============================] - 0s 315ms/step\n",
      "1/1 [==============================] - 0s 43ms/step\n"
     ]
    },
    {
     "name": "stderr",
     "output_type": "stream",
     "text": [
      "C:\\Users\\Desperado\\AppData\\Local\\Programs\\Python\\Python311\\Lib\\site-packages\\sklearn\\base.py:465: UserWarning: X does not have valid feature names, but MinMaxScaler was fitted with feature names\n",
      "  warnings.warn(\n",
      "C:\\Users\\Desperado\\AppData\\Local\\Programs\\Python\\Python311\\Lib\\site-packages\\sklearn\\base.py:465: UserWarning: X does not have valid feature names, but MinMaxScaler was fitted with feature names\n",
      "  warnings.warn(\n"
     ]
    },
    {
     "name": "stdout",
     "output_type": "stream",
     "text": [
      "1/1 [==============================] - 0s 33ms/step\n",
      "1/1 [==============================] - 0s 57ms/step\n"
     ]
    },
    {
     "name": "stderr",
     "output_type": "stream",
     "text": [
      "C:\\Users\\Desperado\\AppData\\Local\\Programs\\Python\\Python311\\Lib\\site-packages\\sklearn\\base.py:465: UserWarning: X does not have valid feature names, but MinMaxScaler was fitted with feature names\n",
      "  warnings.warn(\n",
      "C:\\Users\\Desperado\\AppData\\Local\\Programs\\Python\\Python311\\Lib\\site-packages\\sklearn\\base.py:465: UserWarning: X does not have valid feature names, but MinMaxScaler was fitted with feature names\n",
      "  warnings.warn(\n"
     ]
    },
    {
     "name": "stdout",
     "output_type": "stream",
     "text": [
      "1/1 [==============================] - 0s 38ms/step\n",
      "1/1 [==============================] - 0s 36ms/step\n",
      "1/1 [==============================] - ETA: 0s"
     ]
    },
    {
     "name": "stderr",
     "output_type": "stream",
     "text": [
      "C:\\Users\\Desperado\\AppData\\Local\\Programs\\Python\\Python311\\Lib\\site-packages\\sklearn\\base.py:465: UserWarning: X does not have valid feature names, but MinMaxScaler was fitted with feature names\n",
      "  warnings.warn(\n",
      "C:\\Users\\Desperado\\AppData\\Local\\Programs\\Python\\Python311\\Lib\\site-packages\\sklearn\\base.py:465: UserWarning: X does not have valid feature names, but MinMaxScaler was fitted with feature names\n",
      "  warnings.warn(\n"
     ]
    },
    {
     "name": "stdout",
     "output_type": "stream",
     "text": [
      "1/1 [==============================] - 0s 45ms/step\n",
      "1/1 [==============================] - 0s 58ms/step\n"
     ]
    },
    {
     "name": "stderr",
     "output_type": "stream",
     "text": [
      "C:\\Users\\Desperado\\AppData\\Local\\Programs\\Python\\Python311\\Lib\\site-packages\\sklearn\\base.py:465: UserWarning: X does not have valid feature names, but MinMaxScaler was fitted with feature names\n",
      "  warnings.warn(\n",
      "C:\\Users\\Desperado\\AppData\\Local\\Programs\\Python\\Python311\\Lib\\site-packages\\sklearn\\base.py:465: UserWarning: X does not have valid feature names, but MinMaxScaler was fitted with feature names\n",
      "  warnings.warn(\n"
     ]
    },
    {
     "name": "stdout",
     "output_type": "stream",
     "text": [
      "1/1 [==============================] - 0s 38ms/step\n",
      "2023-11-01 00:00:00 [[  31.390163    22.306913    94.70567     58.1435       7.9314604\n",
      "     1.5023731    4.947109    19.212358    17.508276    78.271835\n",
      "  1423.574    ]]\n",
      "2023-11-02 00:00:00 [[  31.359747    21.844753    95.00533     56.68936      8.199355\n",
      "     1.5414262    4.9320645   19.430693    17.508305    78.271996\n",
      "  1352.696    ]]\n",
      "2023-11-03 00:00:00 [[  31.348774    21.481781    94.846794    55.41953      8.352075\n",
      "     1.5259098    4.932712    19.526133    17.508324    78.272095\n",
      "  1302.6743   ]]\n",
      "2023-11-04 00:00:00 [[  31.304293    21.319336    94.623024    54.8295       8.559756\n",
      "     1.6066041    4.9364147   19.567509    17.50834     78.272156\n",
      "  1259.9158   ]]\n",
      "2023-11-05 00:00:00 [[  31.242588    21.24334     94.44093     54.75003      8.821144\n",
      "     1.7345451    4.917882    19.485912    17.50835     78.27219\n",
      "  1221.3851   ]]\n",
      "2023-11-06 00:00:00 [[  31.16421     21.234558    94.30664     54.994865     9.10887\n",
      "     1.8929676    4.8935223   19.386269    17.508358    78.2722\n",
      "  1186.9364   ]]\n",
      "2023-11-07 00:00:00 [[  31.119541    21.242796    94.322754    55.474506     9.376885\n",
      "     2.0614185    4.852637    19.20026     17.508362    78.27221\n",
      "  1153.0536   ]]\n",
      "2023-11-08 00:00:00 [[  31.069826    21.277384    94.36532     56.013042     9.640249\n",
      "     2.2301705    4.809908    19.012545    17.508364    78.2722\n",
      "  1121.533    ]]\n",
      "2023-11-09 00:00:00 [[  31.013618    21.332373    94.4075      56.609356     9.923324\n",
      "     2.4011862    4.7696247   18.825153    17.508368    78.2722\n",
      "  1092.7926   ]]\n"
     ]
    }
   ],
   "source": [
    "import numpy as np\n",
    "import pandas as pd\n",
    "import keras\n",
    "import matplotlib.pyplot as plt\n",
    "from sklearn.preprocessing import MinMaxScaler\n",
    "from keras.models import load_model\n",
    "\n",
    "model = load_model('drought_prediction_model.keras')\n",
    "\n",
    "# Read the dataset\n",
    "df = pd.read_csv(\"Data_set.csv\")\n",
    "\n",
    "# Select relevant columns\n",
    "dff = df[['Date', 'MaxT', 'MinT', 'RH1', 'RH2', 'Wind', 'Rain', 'Evap', 'Radiation', 'Lat', 'Lon', 'Cum_Rain']]\n",
    "\n",
    "# Fix specific data point\n",
    "X = dff.drop('Date', axis=1)\n",
    "\n",
    "# Scale the features\n",
    "scaler = MinMaxScaler()\n",
    "scaler.fit(X)\n",
    "\n",
    "inp = X.tail(7).to_numpy()\n",
    "inp_norm = scaler.transform(inp)\n",
    "serri = inp_norm.reshape(1,7,11)\n",
    "predictions = []\n",
    "\n",
    "predict = model.predict(serri)\n",
    "pre_inv = scaler.inverse_transform(predict)\n",
    "predictions.append(pre_inv)\n",
    "\n",
    "for i in range(8):\n",
    "    inp = inp[1:]\n",
    "    inp = np.concatenate((inp, pre_inv))\n",
    "    serri = scaler.transform(inp)\n",
    "    predict = model.predict(serri.reshape(1,7,11))\n",
    "    pre_inv = scaler.inverse_transform(predict)\n",
    "    predictions.append(pre_inv)\n",
    "\n",
    "start_date = pd.to_datetime('2023-11-01')\n",
    "end_date = pd.to_datetime('2023-12-30')\n",
    "date_range = pd.date_range(start_date, end_date, freq='D')\n",
    "\n",
    "p_date = {}\n",
    "\n",
    "for i in range(len(predictions)):\n",
    "    p_date[date_range[i]] = predictions[i]\n",
    "\n",
    "for i in p_date:\n",
    "    print(i, p_date[i])\n",
    "\n",
    "#for i in range(len(predictions)):\n",
    " #   print(predictions[i], '\\n')"
   ]
  },
  {
   "cell_type": "code",
   "execution_count": null,
   "id": "80f5939d-1a98-4e56-afb9-03ac6d504cac",
   "metadata": {},
   "outputs": [],
   "source": []
  }
 ],
 "metadata": {
  "kernelspec": {
   "display_name": "Python 3 (ipykernel)",
   "language": "python",
   "name": "python3"
  },
  "language_info": {
   "codemirror_mode": {
    "name": "ipython",
    "version": 3
   },
   "file_extension": ".py",
   "mimetype": "text/x-python",
   "name": "python",
   "nbconvert_exporter": "python",
   "pygments_lexer": "ipython3",
   "version": "3.11.5"
  }
 },
 "nbformat": 4,
 "nbformat_minor": 5
}
