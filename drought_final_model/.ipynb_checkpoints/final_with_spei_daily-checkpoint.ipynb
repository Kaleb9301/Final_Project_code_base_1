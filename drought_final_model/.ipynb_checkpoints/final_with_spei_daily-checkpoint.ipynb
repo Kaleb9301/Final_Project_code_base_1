{
 "cells": [
  {
   "cell_type": "code",
   "execution_count": 30,
   "id": "f6e52f9a",
   "metadata": {
    "scrolled": true
   },
   "outputs": [
    {
     "name": "stderr",
     "output_type": "stream",
     "text": [
      "C:\\Users\\Hp\\anaconda3\\Lib\\site-packages\\sklearn\\base.py:464: UserWarning: X does not have valid feature names, but MinMaxScaler was fitted with feature names\n",
      "  warnings.warn(\n"
     ]
    },
    {
     "name": "stdout",
     "output_type": "stream",
     "text": [
      "1/1 [==============================] - 1s 506ms/step\n",
      "1\n",
      "1/1 [==============================] - 0s 54ms/step\n",
      "2\n",
      "1/1 [==============================] - 0s 55ms/step\n",
      "3\n",
      "1/1 [==============================] - 0s 53ms/step\n",
      "4\n",
      "1/1 [==============================] - 0s 54ms/step\n",
      "5\n",
      "1/1 [==============================] - 0s 52ms/step\n",
      "6\n",
      "1/1 [==============================] - 0s 53ms/step\n",
      "7\n",
      "1/1 [==============================] - 0s 61ms/step\n",
      "8\n",
      "2018-09-01 00:00:00 {'prediction': array([[  31.390163 ,   22.306913 ,   94.70567  ,   58.1435   ,\n",
      "           7.9314604,    1.5023731,    4.947109 ,   19.212358 ,\n",
      "          17.508276 ,   78.271835 , 1423.574    ]], dtype=float32), 'spei': -0.7240461093587353}\n",
      "2018-09-02 00:00:00 {'prediction': array([[  31.390163 ,   22.306913 ,   94.70567  ,   58.1435   ,\n",
      "           7.9314604,    1.5023731,    4.947109 ,   19.212358 ,\n",
      "          17.508276 ,   78.271835 , 1423.574    ]], dtype=float32), 'spei': -0.5400480480586962}\n",
      "2018-09-03 00:00:00 {'prediction': array([[  31.390163 ,   22.306913 ,   94.70567  ,   58.1435   ,\n",
      "           7.9314604,    1.5023731,    4.947109 ,   19.212358 ,\n",
      "          17.508276 ,   78.271835 , 1423.574    ]], dtype=float32), 'spei': -0.9128284036123603}\n",
      "2018-09-04 00:00:00 {'prediction': array([[  31.390163 ,   22.306913 ,   94.70567  ,   58.1435   ,\n",
      "           7.9314604,    1.5023731,    4.947109 ,   19.212358 ,\n",
      "          17.508276 ,   78.271835 , 1423.574    ]], dtype=float32), 'spei': -0.8030087480121647}\n",
      "2018-09-05 00:00:00 {'prediction': array([[  31.390163 ,   22.306913 ,   94.70567  ,   58.1435   ,\n",
      "           7.9314604,    1.5023731,    4.947109 ,   19.212358 ,\n",
      "          17.508276 ,   78.271835 , 1423.574    ]], dtype=float32), 'spei': -0.6819852982432056}\n",
      "2018-09-06 00:00:00 {'prediction': array([[  31.390163 ,   22.306913 ,   94.70567  ,   58.1435   ,\n",
      "           7.9314604,    1.5023731,    4.947109 ,   19.212358 ,\n",
      "          17.508276 ,   78.271835 , 1423.574    ]], dtype=float32), 'spei': -0.6653698769020303}\n",
      "2018-09-07 00:00:00 {'prediction': array([[  31.390163 ,   22.306913 ,   94.70567  ,   58.1435   ,\n",
      "           7.9314604,    1.5023731,    4.947109 ,   19.212358 ,\n",
      "          17.508276 ,   78.271835 , 1423.574    ]], dtype=float32), 'spei': -1.019392817600767}\n",
      "2018-09-08 00:00:00 {'prediction': array([[  31.390163 ,   22.306913 ,   94.70567  ,   58.1435   ,\n",
      "           7.9314604,    1.5023731,    4.947109 ,   19.212358 ,\n",
      "          17.508276 ,   78.271835 , 1423.574    ]], dtype=float32), 'spei': -0.8304163220613158}\n"
     ]
    }
   ],
   "source": [
    "import numpy as np\n",
    "import pandas as pd\n",
    "# import keras\n",
    "import matplotlib.pyplot as plt\n",
    "from sklearn.preprocessing import MinMaxScaler\n",
    "from keras.models import load_model\n",
    "from scipy.stats import norm\n",
    "# Load the pre-trained model\n",
    "model = load_model('drought_prediction_model.keras')\n",
    "\n",
    "# Read the dataset\n",
    "# df = pd.read_csv(\"Data_set.csv\")\n",
    "# df['Date'] = pd.to_datetime(df['Date'])\n",
    "\n",
    "# Read daily statistics from CSV file\n",
    "daily_stats = pd.read_csv('daily_statistics.csv')\n",
    "\n",
    "# Function to calculate SPEI for one day\n",
    "def calculate_spei_one_day(day_of_year, precipitation, evaporation, stats):\n",
    "    ref_precip_mean = stats.loc[stats['DayOfYear'] == day_of_year, 'Precip_Mean'].values[0]\n",
    "    ref_precip_std = stats.loc[stats['DayOfYear'] == day_of_year, 'Precip_Std'].values[0]\n",
    "    ref_evap_mean = stats.loc[stats['DayOfYear'] == day_of_year, 'Evap_Mean'].values[0]\n",
    "    ref_evap_std = stats.loc[stats['DayOfYear'] == day_of_year, 'Evap_Std'].values[0]\n",
    "\n",
    "    # Compute standardized anomalies\n",
    "    precip_anomaly = (precipitation - ref_precip_mean) / ref_precip_std\n",
    "    evap_anomaly = (evaporation - ref_evap_mean) / ref_evap_std\n",
    "\n",
    "    # Combine the anomalies\n",
    "    D_anomaly = precip_anomaly - evap_anomaly\n",
    "\n",
    "    # Convert the anomaly to a standardized SPEI value using the inverse normal CDF (probit function)\n",
    "    spei_value = norm.ppf(norm.cdf(D_anomaly))\n",
    "\n",
    "    return spei_value\n",
    "\n",
    "# Load the pre-trained model\n",
    "model = load_model('drought_prediction_model.keras')\n",
    "\n",
    "# Read the dataset\n",
    "df = pd.read_csv(\"Data_set.csv\")\n",
    "df['Date'] = pd.to_datetime(df['Date'])\n",
    "\n",
    "# Select relevant columns\n",
    "dff = df[['Date', 'MaxT', 'MinT', 'RH1', 'RH2', 'Wind', 'Rain', 'Evap', 'Radiation', 'Lat', 'Lon', 'Cum_Rain']]\n",
    "\n",
    "# Fix specific data point\n",
    "X = dff.drop('Date', axis=1)\n",
    "\n",
    "# Scale the features\n",
    "scaler = MinMaxScaler()\n",
    "scaler.fit(X)\n",
    "\n",
    "inp = X.tail(7).to_numpy()\n",
    "inp_norm = scaler.transform(inp)\n",
    "serri = inp_norm.reshape(1, 7, 11)\n",
    "\n",
    "# Predict drought using the model\n",
    "predictions = []\n",
    "spei_one_day = []\n",
    "# Output predictions and SPEI for each date\n",
    "start_date = pd.to_datetime('2018-09-01')\n",
    "end_date = pd.to_datetime('2018-09-08')\n",
    "date_range = pd.date_range(start_date, end_date, freq='D')\n",
    "\n",
    "\n",
    "current_date = date_range[0]\n",
    "day_of_year = current_date.dayofyear\n",
    "predict = model.predict(serri)\n",
    "pre_inv = scaler.inverse_transform(predict)\n",
    "predictions.append(pre_inv)\n",
    "np.concatenate((inp[1:], pre_inv), axis=0)\n",
    "precipitation_day = predictions[0][0][5]  # Assuming 'Rain' is the 6th column\n",
    "evaporation_day = predictions[0][0][6]    # Assuming 'Evap' is the 7th column\n",
    "spei_value = calculate_spei_one_day(day_of_year, precipitation_day, evaporation_day, daily_stats)\n",
    "spei_one_day.append(spei_value)\n",
    "print(len(spei_one_day))\n",
    "\n",
    "# Calculate SPEI for one day\n",
    "\n",
    "\n",
    "for i in range(7):\n",
    "    \n",
    "\n",
    "    # Get day of year for the current prediction dateas\n",
    "    current_date = date_range[i+1]\n",
    "    day_of_year = current_date.dayofyear\n",
    "    \n",
    "    #predict\n",
    "    predict = model.predict(serri)\n",
    "    pre_inv = scaler.inverse_transform(predict)\n",
    "    \n",
    "    # Calculate SPEI for the new data point\n",
    "    predictions.append(pre_inv)\n",
    "    np.concatenate((inp[1:], pre_inv), axis=0)\n",
    "    precipitation_day = predictions[0][0][5]  # Assuming 'Rain' is the 6th column\n",
    "    evaporation_day = predictions[0][0][6]    # Assuming 'Evap' is the 7th column\n",
    "    spei_value = calculate_spei_one_day(day_of_year, precipitation_day, evaporation_day, daily_stats)\n",
    "    spei_one_day.append(spei_value)\n",
    "    print(len(spei_one_day))\n",
    "\n",
    "\n",
    "p_date = {}\n",
    "\n",
    "for i in range(len(predictions)):\n",
    "    p_date[date_range[i]] = {\"prediction\": predictions[i], \"spei\": spei_one_day[i]}\n",
    "\n",
    "for date, values in p_date.items():\n",
    "    print(date, values)"
   ]
  },
  {
   "cell_type": "code",
   "execution_count": 19,
   "id": "bfd7679f",
   "metadata": {},
   "outputs": [
    {
     "ename": "IndexError",
     "evalue": "list index out of range",
     "output_type": "error",
     "traceback": [
      "\u001b[1;31m---------------------------------------------------------------------------\u001b[0m",
      "\u001b[1;31mIndexError\u001b[0m                                Traceback (most recent call last)",
      "Cell \u001b[1;32mIn[19], line 1\u001b[0m\n\u001b[1;32m----> 1\u001b[0m \u001b[38;5;28mprint\u001b[39m(spei_one_day[\u001b[38;5;241m0\u001b[39m])\n",
      "\u001b[1;31mIndexError\u001b[0m: list index out of range"
     ]
    }
   ],
   "source": [
    "print(spei_one_day[0])"
   ]
  },
  {
   "cell_type": "code",
   "execution_count": 43,
   "id": "5db6d238",
   "metadata": {},
   "outputs": [
    {
     "name": "stdout",
     "output_type": "stream",
     "text": [
      "[-0.5400480480586962, -0.9004765665765433, -0.7911125938167203, -0.6671905873434147, -0.6281535303644749, -0.927883713858435, -0.7144256517610627]\n"
     ]
    }
   ],
   "source": [
    "print(spei_one_day)"
   ]
  },
  {
   "cell_type": "code",
   "execution_count": 61,
   "id": "3ff40954",
   "metadata": {},
   "outputs": [
    {
     "name": "stdout",
     "output_type": "stream",
     "text": [
      "8\n"
     ]
    }
   ],
   "source": [
    "print(len(spei_one_day))"
   ]
  },
  {
   "cell_type": "code",
   "execution_count": 60,
   "id": "6d6c931c",
   "metadata": {},
   "outputs": [
    {
     "name": "stdout",
     "output_type": "stream",
     "text": [
      "8\n"
     ]
    }
   ],
   "source": [
    "print(len(date_range))"
   ]
  },
  {
   "cell_type": "code",
   "execution_count": 59,
   "id": "698a040b",
   "metadata": {},
   "outputs": [
    {
     "name": "stdout",
     "output_type": "stream",
     "text": [
      "8\n"
     ]
    }
   ],
   "source": [
    "print(len(predictions))"
   ]
  },
  {
   "cell_type": "code",
   "execution_count": 47,
   "id": "9c736e94",
   "metadata": {},
   "outputs": [
    {
     "name": "stdout",
     "output_type": "stream",
     "text": [
      "<class 'pandas.core.indexes.datetimes.DatetimeIndex'>\n"
     ]
    }
   ],
   "source": [
    "print(type(date_range))"
   ]
  },
  {
   "cell_type": "code",
   "execution_count": 48,
   "id": "489d3824",
   "metadata": {},
   "outputs": [
    {
     "name": "stdout",
     "output_type": "stream",
     "text": [
      "<class 'pandas.core.series.Series'>\n"
     ]
    }
   ],
   "source": [
    "print(type(df['Date']))"
   ]
  },
  {
   "cell_type": "code",
   "execution_count": 49,
   "id": "7ceb9cd7",
   "metadata": {},
   "outputs": [
    {
     "data": {
      "text/plain": [
       "251"
      ]
     },
     "execution_count": 49,
     "metadata": {},
     "output_type": "execute_result"
    }
   ],
   "source": [
    "day_of_year"
   ]
  },
  {
   "cell_type": "code",
   "execution_count": 50,
   "id": "294d68b6",
   "metadata": {},
   "outputs": [
    {
     "name": "stdout",
     "output_type": "stream",
     "text": [
      "<class 'int'>\n"
     ]
    }
   ],
   "source": [
    "print(type(day_of_year))"
   ]
  },
  {
   "cell_type": "code",
   "execution_count": null,
   "id": "28647fde",
   "metadata": {},
   "outputs": [],
   "source": []
  }
 ],
 "metadata": {
  "kernelspec": {
   "display_name": "Python 3 (ipykernel)",
   "language": "python",
   "name": "python3"
  },
  "language_info": {
   "codemirror_mode": {
    "name": "ipython",
    "version": 3
   },
   "file_extension": ".py",
   "mimetype": "text/x-python",
   "name": "python",
   "nbconvert_exporter": "python",
   "pygments_lexer": "ipython3",
   "version": "3.11.4"
  }
 },
 "nbformat": 4,
 "nbformat_minor": 5
}
