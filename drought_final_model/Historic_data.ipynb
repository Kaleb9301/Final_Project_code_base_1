{
 "cells": [
  {
   "cell_type": "code",
   "execution_count": 53,
   "id": "b576813c",
   "metadata": {},
   "outputs": [
    {
     "name": "stdout",
     "output_type": "stream",
     "text": [
      "Daily statistics with month and date have been calculated and saved to 'daily_statistics.csv'\n"
     ]
    }
   ],
   "source": [
    "import numpy as np\n",
    "import pandas as pd\n",
    "\n",
    "# Load historical data to calculate reference mean and standard deviation\n",
    "historical_data = pd.read_csv('Data_set.csv')\n",
    "historical_data['Date'] = pd.to_datetime(historical_data['Date'])\n",
    "historical_data['DayOfYear'] = historical_data['Date'].dt.dayofyear\n",
    "\n",
    "# Calculate daily statistics\n",
    "daily_stats = historical_data.groupby('DayOfYear').agg({\n",
    "    'Rain': ['mean', 'std'],\n",
    "    'Evap': ['mean', 'std']\n",
    "}).reset_index()\n",
    "\n",
    "# Rename columns for clarity\n",
    "daily_stats.columns = ['DayOfYear', 'Precip_Mean', 'Precip_Std', 'Evap_Mean', 'Evap_Std']\n",
    "# Add month and date columns\n",
    "def day_of_year_to_date(day_of_year, year=2024):\n",
    "    date = pd.Timestamp(year=year, month=1, day=1) + pd.DateOffset(days=day_of_year - 1)\n",
    "    return date.strftime('%m-%d')\n",
    "\n",
    "day_numbers = [i for i in range(1, 367)]\n",
    "\n",
    "# Convert the list to a pandas Series by applying the function to each element\n",
    "day_series = pd.Series(day_numbers).apply(day_of_year_to_date)\n",
    "\n",
    "daily_stats['Month-Day'] = day_series\n",
    "\n",
    "# Reorder columns for better readability\n",
    "daily_stats = daily_stats[['DayOfYear', 'Month-Day', 'Precip_Mean', 'Precip_Std', 'Evap_Mean', 'Evap_Std']]\n",
    "\n",
    "# Save daily statistics to a CSV file\n",
    "daily_stats.to_csv('daily_statistics.csv', index=False)\n",
    "\n",
    "print(\"Daily statistics with month and date have been calculated and saved to 'daily_statistics.csv'\")\n"
   ]
  },
  {
   "cell_type": "code",
   "execution_count": null,
   "id": "777a3d23",
   "metadata": {},
   "outputs": [],
   "source": []
  },
  {
   "cell_type": "code",
   "execution_count": null,
   "id": "8c3f3a5e",
   "metadata": {},
   "outputs": [],
   "source": []
  }
 ],
 "metadata": {
  "kernelspec": {
   "display_name": "Python 3 (ipykernel)",
   "language": "python",
   "name": "python3"
  },
  "language_info": {
   "codemirror_mode": {
    "name": "ipython",
    "version": 3
   },
   "file_extension": ".py",
   "mimetype": "text/x-python",
   "name": "python",
   "nbconvert_exporter": "python",
   "pygments_lexer": "ipython3",
   "version": "3.11.4"
  }
 },
 "nbformat": 4,
 "nbformat_minor": 5
}
